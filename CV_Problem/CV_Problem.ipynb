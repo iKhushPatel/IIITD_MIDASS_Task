{
 "cells": [
  {
   "cell_type": "code",
   "execution_count": null,
   "metadata": {
    "colab": {},
    "colab_type": "code",
    "id": "Sso_mcy5gPhj"
   },
   "outputs": [],
   "source": [
    "#############################################################\n",
    "#AUTHOR : Khushkumar Patel (khushkumar.cba1531@ict.gnu.ac.in)\n",
    "#############################################################\n",
    "\n",
    "# adding required libraries\n",
    "\n",
    "import pandas as pd\n",
    "import numpy as np\n",
    "from sklearn.ensemble import GradientBoostingClassifier"
   ]
  },
  {
   "cell_type": "code",
   "execution_count": null,
   "metadata": {
    "colab": {},
    "colab_type": "code",
    "id": "zahqb53wgSMS"
   },
   "outputs": [],
   "source": [
    "#IMPORT DATASET\n",
    "directory = '/'\n",
    "train_data = 'train_image.pkl'\n",
    "train_label = 'train_label.pkl'\n",
    "test_data = 'test_image.pkl'\n",
    "df_train_data = pd.read_pickle(train_data)\n",
    "df_train_label = pd.read_pickle(train_label)\n",
    "df_test_data = pd.read_pickle(test_data)"
   ]
  },
  {
   "cell_type": "code",
   "execution_count": null,
   "metadata": {
    "colab": {},
    "colab_type": "code",
    "id": "8PmCAgW-g0lj"
   },
   "outputs": [],
   "source": [
    "df_data = np.array(df_train_data)\n",
    "df_label = np.array(df_train_label)"
   ]
  },
  {
   "cell_type": "code",
   "execution_count": null,
   "metadata": {
    "colab": {},
    "colab_type": "code",
    "id": "ChIh_wCcg6AY"
   },
   "outputs": [],
   "source": [
    "#sklearn GradientBoostingClassifier with Hyperparameter Tuning \n",
    "clf = GradientBoostingClassifier(loss = 'deviance', max_depth=10, n_estimators=100)"
   ]
  },
  {
   "cell_type": "code",
   "execution_count": null,
   "metadata": {
    "colab": {},
    "colab_type": "code",
    "id": "4sgX5Ormg8eJ"
   },
   "outputs": [],
   "source": [
    "#fit the model\n",
    "clf.fit(df_data, df_label) "
   ]
  },
  {
   "cell_type": "code",
   "execution_count": null,
   "metadata": {
    "colab": {},
    "colab_type": "code",
    "id": "2wtlX93ZiSJ_"
   },
   "outputs": [],
   "source": [
    "#save the model\n",
    "import pickle\n",
    "filename = 'model.pkl'\n",
    "pickle.dump(clf, open(filename, 'wb'))"
   ]
  },
  {
   "cell_type": "code",
   "execution_count": null,
   "metadata": {
    "colab": {},
    "colab_type": "code",
    "id": "x63GcEv4i0Wt"
   },
   "outputs": [],
   "source": [
    "#predict the class label \n",
    "predict = clf.predict(df_test_data)"
   ]
  },
  {
   "cell_type": "code",
   "execution_count": null,
   "metadata": {
    "colab": {},
    "colab_type": "code",
    "id": "HLEcowkku9ul"
   },
   "outputs": [],
   "source": [
    "#saving in csv file \n",
    "test_image_index = [i for i in range(1,2001)]\n",
    "dataframe = pd.DataFrame({'Test_image_index':l, 'predicted_class':predict})\n",
    "dataframe.to_csv('prediction.csv', index=False)"
   ]
  },
  {
   "cell_type": "code",
   "execution_count": 0,
   "metadata": {
    "colab": {},
    "colab_type": "code",
    "id": "YpopJku6yQ0v"
   },
   "outputs": [],
   "source": []
  }
 ],
 "metadata": {
  "colab": {
   "name": "CV_Problem.ipynb",
   "provenance": [],
   "version": "0.3.2"
  },
  "kernelspec": {
   "display_name": "Python 3",
   "language": "python",
   "name": "python3"
  },
  "language_info": {
   "codemirror_mode": {
    "name": "ipython",
    "version": 3
   },
   "file_extension": ".py",
   "mimetype": "text/x-python",
   "name": "python",
   "nbconvert_exporter": "python",
   "pygments_lexer": "ipython3",
   "version": "3.6.5"
  }
 },
 "nbformat": 4,
 "nbformat_minor": 1
}
